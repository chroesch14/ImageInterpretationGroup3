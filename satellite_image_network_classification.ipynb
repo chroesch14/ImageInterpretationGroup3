{
 "cells": [
  {
   "cell_type": "markdown",
   "id": "39ea2190",
   "metadata": {},
   "source": [
    "# Import of Modules"
   ]
  },
  {
   "cell_type": "code",
   "execution_count": 9,
   "id": "851f72d1",
   "metadata": {},
   "outputs": [],
   "source": [
    "# import moduels\n",
    "import h5py\n",
    "import numpy as np\n",
    "import matplotlib.pylab as plt\n",
    "\n",
    "from sklearn.model_selection import train_test_split\n",
    "from sklearn import tree\n",
    "import pandas as pd\n",
    "from sklearn.metrics import confusion_matrix\n",
    "\n",
    "from PIL import Image\n",
    "import random\n",
    "import math\n",
    "\n",
    "\n",
    "# import networks modules\n",
    "from torchvision import models\n",
    "import torchvision.transforms as T"
   ]
  },
  {
   "cell_type": "markdown",
   "id": "fdf467cc",
   "metadata": {},
   "source": [
    "# Definitions"
   ]
  },
  {
   "cell_type": "code",
   "execution_count": 56,
   "id": "615e7472",
   "metadata": {},
   "outputs": [],
   "source": [
    "# define windowsize\n",
    "image_size = 256\n",
    "x_size = image_size\n",
    "y_size = image_size\n",
    "\n",
    "\n",
    "#number of samples\n",
    "n_samples = 100\n",
    "\n",
    "# number of categories in the pretrained model\n",
    "n_cat = 21 # only correct for the Pascal Voc data set --> change if other training dataset is used!!!!!"
   ]
  },
  {
   "cell_type": "code",
   "execution_count": 11,
   "id": "be461424",
   "metadata": {},
   "outputs": [],
   "source": [
    "# access the data\n",
    "# this part have to be replaced when the images from the neuronal networks are available\n",
    "dset = h5py.File(\"dataset_test.h5\",\"r\")\n",
    "\n",
    "#Access to the input data\n",
    "RGB = dset[\"RGB\"]\n",
    "NIR = dset[\"NIR\"]"
   ]
  },
  {
   "cell_type": "code",
   "execution_count": 12,
   "id": "0b922c60",
   "metadata": {},
   "outputs": [],
   "source": [
    "#Access groundtruth data\n",
    "GT = dset[\"GT\"]\n",
    "CLD = dset[\"CLD\"]"
   ]
  },
  {
   "cell_type": "code",
   "execution_count": 69,
   "id": "63af1768",
   "metadata": {},
   "outputs": [],
   "source": [
    "# select model\n",
    "# available more models are avialable at: https://pytorch.org/vision/stable/models.html\n",
    "\n",
    "#FCN ResNet50\n",
    "model = models.segmentation.fcn_resnet50(pretrained=True, progress=True)\n",
    "\n",
    "#DeepLabV3 ResNet50\n",
    "#model = models.segmentation.deeplabv3_resnet50(pretrained=True, progress=True)"
   ]
  },
  {
   "cell_type": "markdown",
   "id": "03fae95b",
   "metadata": {},
   "source": [
    "# Functions"
   ]
  },
  {
   "cell_type": "code",
   "execution_count": 13,
   "id": "060dac14",
   "metadata": {},
   "outputs": [],
   "source": [
    "# function to create groundtruth\n",
    "\n",
    "def groundtruth_generator(img_number, x_ind, y_ind,win_x,win_y):\n",
    "    #create temp image\n",
    "    cout_out = GT[img_number, x_ind:x_ind+win_x,y_ind:y_ind+win_y]\n",
    "    temp_img = np.where(cout_out==99,3,cout_out)\n",
    "\n",
    "    #insert the clouds into the temp groundtruth\n",
    "    temp_cloud = CLD[img_number, x_ind:x_ind+win_x,y_ind:y_ind+win_y]\n",
    "    \n",
    "    #cloud_positions = np.where(CLD[img_number] > 10) # check if this number makes sense\n",
    "    cloud_positions = np.where(temp_cloud > 10) # check if this number makes sense\n",
    "    temp_img[cloud_positions] = 2\n",
    "    \n",
    "    #cout_out = temp_img[x_ind:x_ind+win_x,y_ind:y_ind+win_y]\n",
    "\n",
    "    final_ground = temp_img.reshape(win_x*win_y,1)\n",
    "    return final_ground"
   ]
  },
  {
   "cell_type": "code",
   "execution_count": 14,
   "id": "dc6ea71a",
   "metadata": {},
   "outputs": [],
   "source": [
    "# function to get the samples out of the images\n",
    "# return window form input image with the specified size\n",
    "# img_n: number of the image\n",
    "# x_ind: x-coordinate of top left pixel\n",
    "# y_ind: y-coordinate of top left pixel\n",
    "# win_x: size of the window in x direction \n",
    "# win_y: size of the window in y direction\n",
    "\n",
    "# TODO  implement functionality that is possible to choose between the layers\n",
    "# TODO add the NIR values to the images\n",
    "\n",
    "\n",
    "def sample_generator(img_n, x_ind, y_ind, win_x, win_y):\n",
    "    temp_img = RGB[img_n,x_ind:x_ind+win_x,y_ind:y_ind+win_y,:3]\n",
    "    img = temp_img.reshape(win_x*win_y,3);\n",
    "    return img"
   ]
  },
  {
   "cell_type": "code",
   "execution_count": 15,
   "id": "61d352fd",
   "metadata": {},
   "outputs": [],
   "source": [
    "# function to prepare the input image into the correct form (for all segementation models of torchvision the same normalistation and standard deviation can be used!)\n",
    "# more information: https://learnopencv.com/pytorch-for-beginners-image-classification-using-pre-trained-models/\n",
    "# or https://pytorch.org/vision/stable/models.html\n",
    "trf = T.Compose([T.Resize(image_size),\n",
    "                 T.CenterCrop(image_size),\n",
    "                 T.ToTensor(), \n",
    "                 T.Normalize(mean = [0.485, 0.456, 0.406], \n",
    "                             std = [0.229, 0.224, 0.225])])"
   ]
  },
  {
   "cell_type": "code",
   "execution_count": 70,
   "id": "0434fcc4",
   "metadata": {},
   "outputs": [],
   "source": [
    "# function to run the network for one image\n",
    "\n",
    "def run_network (img):\n",
    "    # prepare image batch\n",
    "    inp = trf(img).unsqueeze(0)\n",
    "    # put the image into the network\n",
    "    out = model(inp)['out']\n",
    "    \n",
    "    # reshape the output of the network to use it in the classifier \n",
    "    # size (image_size x image_size) x 21 (all of the torchvision segmentation models are trained with the Pascal Voc dataseet --> contains 21 categories) more info: https://pytorch.org/vision/stable/models.html\n",
    "    # TODO check if the reshape is done in the correct way\n",
    "    temp = out.detach().numpy()\n",
    "    temp1 = temp[0]\n",
    "    temp2 = temp1.reshape(np.square(image_size),n_cat)\n",
    "    return temp2"
   ]
  },
  {
   "cell_type": "markdown",
   "id": "4520fe7c",
   "metadata": {},
   "source": [
    "# Network part"
   ]
  },
  {
   "cell_type": "code",
   "execution_count": 71,
   "id": "763e4bfb",
   "metadata": {},
   "outputs": [],
   "source": [
    "# create random numbers to for selecting image patches from the three images\n",
    "\n",
    "#size of the input image\n",
    "#TODO adapt it for the final version \n",
    "s_input = RGB.shape\n",
    "\n",
    "max_random_x_number = s_input[1]-x_size\n",
    "max_random_y_number = s_input[2]-y_size\n",
    "\n",
    "random_x = np.array(random.sample(range(0,max_random_x_number), n_samples))\n",
    "random_y = np.array(random.sample(range(0,max_random_y_number), n_samples))\n",
    "random_img = np.random.randint(3,size=n_samples)\n",
    "\n"
   ]
  },
  {
   "cell_type": "code",
   "execution_count": 72,
   "id": "bcf6bd24",
   "metadata": {},
   "outputs": [],
   "source": [
    "# access the random patches with a neuronal network before it\n",
    "\n",
    "\n",
    "# access the random patches \n",
    "# 70 percent is used for training \n",
    "# 20 percent is used for validation\n",
    "# 10 percent is used for testing\n",
    "\n",
    "per_train = 0.7\n",
    "per_val = 0.2\n",
    "per_test = 0.1\n",
    "\n",
    "#check if this works --> is there never a caser where a patch is lost??\n",
    "n_train = math.floor(n_samples*per_train)\n",
    "n_val = math.floor(n_samples*per_val)\n",
    "n_test = math.floor(n_samples*per_test)\n",
    "\n",
    "#create empty arrays to store the images Train images\n",
    "\n",
    "X_train = np.zeros([n_train*(x_size*y_size),n_cat])\n",
    "y_train = np.zeros([n_train*(x_size*y_size),1])\n",
    "\n",
    "\n",
    "# TODO add this line to the top\n",
    "patch_size = x_size*y_size\n",
    "\n",
    "for i in range(1,n_train-1):\n",
    "    network_out = run_network(Image.fromarray(RGB[random_img[i-1],random_x[i-1]:random_x[i-1]+x_size,random_y[i-1]:random_y[i-1]+y_size,:3]))\n",
    "    X_train[(i)*patch_size-patch_size: i*patch_size,:] = network_out\n",
    "    y_train[(i)*patch_size-patch_size: i*patch_size,:] = groundtruth_generator(random_img[i-1],random_x[i-1], random_y[i-1],x_size, y_size)\n",
    "    \n",
    "X_val = np.zeros([n_val*(x_size*y_size),n_cat])\n",
    "y_val = np.zeros([n_val*(x_size*y_size),1])\n",
    "for i in range (n_train+1, n_train+n_val-1):\n",
    "    network_out = run_network(Image.fromarray(RGB[random_img[i-1],random_x[i-1]:random_x[i-1]+x_size,random_y[i-1]:random_y[i-1]+y_size,:3])) \n",
    "    X_val[(i-n_train)*patch_size-patch_size: (i-n_train)*patch_size,:] = network_out\n",
    "    y_val[(i-n_train)*patch_size-patch_size: (i-n_train)*patch_size,:] = groundtruth_generator(random_img[i-1],random_x[i-1], random_y[i-1],x_size, y_size)\n",
    "    \n",
    "    \n",
    "X_test = np.zeros([n_test*(x_size*y_size),n_cat])\n",
    "y_test = np.zeros([n_test*(x_size*y_size),1])\n",
    "for i in range (n_train+n_val+1, n_train+n_val+n_test-1):\n",
    "    network_out = run_network(Image.fromarray(RGB[random_img[i-1],random_x[i-1]:random_x[i-1]+x_size,random_y[i-1]:random_y[i-1]+y_size,:3]))\n",
    "    X_test[(i-n_train-n_val)*patch_size-patch_size: (i-n_train-n_val)*patch_size,:] = network_out\n",
    "    y_test[(i-n_train-n_val)*patch_size-patch_size: (i-n_train-n_val)*patch_size,:] = groundtruth_generator(random_img[i-1],random_x[i-1], random_y[i-1],x_size, y_size)\n",
    "        \n"
   ]
  },
  {
   "cell_type": "markdown",
   "id": "10c758a7",
   "metadata": {},
   "source": [
    "# Classifier part"
   ]
  },
  {
   "cell_type": "code",
   "execution_count": 73,
   "id": "e06c7d53",
   "metadata": {},
   "outputs": [
    {
     "data": {
      "text/plain": [
       "0.7559524536132812"
      ]
     },
     "execution_count": 73,
     "metadata": {},
     "output_type": "execute_result"
    }
   ],
   "source": [
    "dt_clf = tree.DecisionTreeClassifier(max_depth=5)\n",
    "dt_clf.fit(X_train, y_train)\n",
    "dt_clf.score(X_val, y_val)"
   ]
  },
  {
   "cell_type": "code",
   "execution_count": 74,
   "id": "c8eebbcf",
   "metadata": {},
   "outputs": [
    {
     "name": "stdout",
     "output_type": "stream",
     "text": [
      "[[463496      0      0     10]\n",
      " [ 64360      0      0      2]\n",
      " [ 61955      1      0      0]\n",
      " [ 65536      0      0      0]]\n"
     ]
    }
   ],
   "source": [
    "# test classifier and create confusion matrix\n",
    "y_pred = dt_clf.predict(X_test)\n",
    "conf_matrix = confusion_matrix(y_test, y_pred)\n",
    "print(conf_matrix)"
   ]
  },
  {
   "cell_type": "markdown",
   "id": "0f73d61f",
   "metadata": {},
   "source": [
    "# Visualization"
   ]
  },
  {
   "cell_type": "code",
   "execution_count": 77,
   "id": "bd79b707",
   "metadata": {},
   "outputs": [
    {
     "data": {
      "image/png": "[encoded data removed]",
      "text/plain": [
       "<Figure size 432x288 with 1 Axes>"
      ]
     },
     "metadata": {
      "needs_background": "light"
     },
     "output_type": "display_data"
    },
    {
     "data": {
      "image/png": "[encoded data removed]",
      "text/plain": [
       "<Figure size 432x288 with 1 Axes>"
      ]
     },
     "metadata": {
      "needs_background": "light"
     },
     "output_type": "display_data"
    }
   ],
   "source": [
    "temp = 256*256\n",
    "\n",
    "temp_img = y_pred[4*temp:5*temp].reshape([256,256])\n",
    "plt.imshow(temp_img)\n",
    "plt.show()\n",
    "\n",
    "groundtruth = y_test[4*temp:5*temp].reshape([256,256])\n",
    "plt.imshow(groundtruth)\n",
    "plt.show()"
   ]
  }
 ],
 "metadata": {
  "kernelspec": {
   "display_name": "Python 3 (ipykernel)",
   "language": "python",
   "name": "python3"
  },
  "language_info": {
   "codemirror_mode": {
    "name": "ipython",
    "version": 3
   },
   "file_extension": ".py",
   "mimetype": "text/x-python",
   "name": "python",
   "nbconvert_exporter": "python",
   "pygments_lexer": "ipython3",
   "version": "3.8.11"
  }
 },
 "nbformat": 4,
 "nbformat_minor": 5
}
