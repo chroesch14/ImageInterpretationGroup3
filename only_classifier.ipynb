{
 "cells": [
  {
   "cell_type": "code",
   "execution_count": 9,
   "id": "fe1d66a1",
   "metadata": {},
   "outputs": [],
   "source": [
    "# import moduels\n",
    "import h5py\n",
    "import numpy as np\n",
    "import matplotlib.pylab as plt\n",
    "\n",
    "from sklearn.model_selection import train_test_split\n",
    "from sklearn import tree\n",
    "import pandas as pd\n",
    "from sklearn.metrics import confusion_matrix\n",
    "from sklearn.neighbors import KNeighborsClassifier\n",
    "\n",
    "\n",
    "from PIL import Image\n",
    "import random\n",
    "import math\n",
    "\n",
    "import os\n"
   ]
  },
  {
   "cell_type": "code",
   "execution_count": 2,
   "id": "b22e11ab",
   "metadata": {},
   "outputs": [
    {
     "name": "stdout",
     "output_type": "stream",
     "text": [
      "Thes shape of the images is:\n",
      "(3, 10980, 10980, 3)\n"
     ]
    }
   ],
   "source": [
    "# access the data\n",
    "# this part have to be replaced when the images from the neuronal networks are available\n",
    "dset = h5py.File(\"dataset_test.h5\",\"r\")\n",
    "\n",
    "#Access to the input data\n",
    "RGB = dset[\"RGB\"]\n",
    "NIR = dset[\"NIR\"]\n",
    "\n",
    "#Access groundtruth data\n",
    "GT = dset[\"GT\"]\n",
    "CLD = dset[\"CLD\"]\n",
    "\n",
    "print(\"Thes shape of the images is:\")\n",
    "print(RGB.shape)\n",
    "\n",
    "\n",
    "# get size and numbers of the dataset\n",
    "# number of images\n",
    "n_images = RGB.shape[0]\n",
    "\n",
    "# imagesize x_direction\n",
    "sx_image = RGB.shape[1]\n",
    "#imageszize y_direction\n",
    "sy_image = RGB.shape[2]"
   ]
  },
  {
   "cell_type": "code",
   "execution_count": 3,
   "id": "47e50510",
   "metadata": {},
   "outputs": [],
   "source": [
    "# function to create groundtruth\n",
    "\n",
    "def groundtruth_generator(img_number, x_ind, y_ind,win_x,win_y):\n",
    "    #create temp image\n",
    "    cout_out = GT[img_number, x_ind:x_ind+win_x,y_ind:y_ind+win_y]\n",
    "    temp_img = np.where(cout_out==99,3,cout_out)\n",
    "\n",
    "    #insert the clouds into the temp groundtruth\n",
    "    temp_cloud = CLD[img_number, x_ind:x_ind+win_x,y_ind:y_ind+win_y]\n",
    "    \n",
    "    #cloud_positions = np.where(CLD[img_number] > 10) # check if this number makes sense\n",
    "    cloud_positions = np.where(temp_cloud > 10) # check if this number makes sense\n",
    "    temp_img[cloud_positions] = 2\n",
    "    \n",
    "    #cout_out = temp_img[x_ind:x_ind+win_x,y_ind:y_ind+win_y]\n",
    "\n",
    "    final_ground = temp_img.reshape(win_x*win_y,1)\n",
    "    return final_ground"
   ]
  },
  {
   "cell_type": "code",
   "execution_count": 4,
   "id": "ebe5e396",
   "metadata": {},
   "outputs": [],
   "source": [
    "#Access the data from the neuronal network part\n",
    "# path where the files of the networkpart are \n",
    "path = 'C:/Users/Pascal/Documents/ETH/Master/HS2021/Image Interpretation/Lab1/brauchbarer_code/output_network_model_2/'\n",
    "files = os.listdir(path)\n",
    "#count how many files there are\n",
    "num_files = len(files)\n",
    "\n",
    "#seperate the data into training data and validation data\n",
    "X_train_n, X_val_n, y_train_n, y_val_n = train_test_split(np.arange(num_files),np.arange(num_files),test_size=0.3,random_state=0)"
   ]
  },
  {
   "cell_type": "code",
   "execution_count": 5,
   "id": "602e8a1d",
   "metadata": {},
   "outputs": [],
   "source": [
    "# create the X_train etc. arrays\n",
    "#test = np.load('./output_network/'+str(files[X_train[0]]))\n",
    "#test.shape\n",
    "\n",
    "s_patch = 256 # TODO integrate this information into the metadata line\n",
    "n_cat = 21 # TODO integrate this information into the metadata line\n",
    "\n",
    "X_train = np.zeros([len(X_train_n)*np.square(s_patch),n_cat])\n",
    "y_train = np.zeros([len(y_train_n)*np.square(s_patch),1])\n",
    "\n",
    "X_val = np.zeros([len(X_val_n)*np.square(s_patch),n_cat])\n",
    "y_val = np.zeros([len(y_val_n)*np.square(s_patch),1])\n",
    "\n",
    "step_size = np.square(s_patch)\n",
    "\n",
    "# TODO check if everything is correctly implemented\n",
    "for i in range(1,len(X_train_n)+1):\n",
    "    temp = np.load('./output_network_model_2/'+str(files[X_train_n[i-1]]))#last line contains metadata\n",
    "    X_train[i*step_size-step_size:i*step_size,:] = temp[:-1,:]\n",
    "    y_train[i*step_size-step_size:i*step_size] = groundtruth_generator(1,temp[-1,0].astype(np.int64),temp[-1,1].astype(np.int64),s_patch,s_patch)\n",
    "    \n",
    "    \n",
    "for i in range(1,len(X_val_n)+1):\n",
    "    temp = np.load('./output_network_model_2/'+str(files[X_val_n[i-1]]))#last line contains metadata\n",
    "    X_val[i*step_size-step_size:i*step_size,:] = temp[:-1,:]\n",
    "    y_val[i*step_size-step_size:i*step_size] = groundtruth_generator(1,temp[-1,0].astype(np.int64),temp[-1,1].astype(np.int64),s_patch,s_patch)\n",
    "    \n",
    "    "
   ]
  },
  {
   "cell_type": "markdown",
   "id": "06cad142",
   "metadata": {},
   "source": [
    "# Classifier part"
   ]
  },
  {
   "cell_type": "code",
   "execution_count": 6,
   "id": "06bd47a5",
   "metadata": {},
   "outputs": [
    {
     "data": {
      "text/plain": [
       "0.7596506754557292"
      ]
     },
     "execution_count": 6,
     "metadata": {},
     "output_type": "execute_result"
    }
   ],
   "source": [
    "# Decision Tree\n",
    "# train classifier and validate the classifier\n",
    "dt_clf = tree.DecisionTreeClassifier(max_depth=5)\n",
    "dt_clf.fit(X_train, y_train)\n",
    "dt_clf.score(X_val, y_val)"
   ]
  },
  {
   "cell_type": "markdown",
   "id": "1b91697f",
   "metadata": {},
   "source": [
    "Classifier testing"
   ]
  },
  {
   "cell_type": "code",
   "execution_count": 7,
   "id": "62d70587",
   "metadata": {},
   "outputs": [],
   "source": [
    "# confusion matrix --> test set have to be created\n",
    "\n",
    "# test classifier and create confusion matrix\n",
    "#y_pred = dt_clf.predict(X_test)\n",
    "#conf_matrix = confusion_matrix(y_test, y_pred)\n",
    "#print(conf_matrix)"
   ]
  },
  {
   "cell_type": "markdown",
   "id": "3ce6c22e",
   "metadata": {},
   "source": [
    "Auswertung der ganzen Pipeline: z.B. Recall, Precision, etc. --> muss noch implementiert werden --> weitere Möglichkeiten \n",
    "suchen"
   ]
  },
  {
   "cell_type": "code",
   "execution_count": null,
   "id": "81ac0193",
   "metadata": {},
   "outputs": [],
   "source": []
  },
  {
   "cell_type": "markdown",
   "id": "901e84e9",
   "metadata": {},
   "source": [
    "# Visualization\n",
    "TODO implement"
   ]
  },
  {
   "cell_type": "code",
   "execution_count": null,
   "id": "22873823",
   "metadata": {},
   "outputs": [],
   "source": []
  }
 ],
 "metadata": {
  "kernelspec": {
   "display_name": "Python 3 (ipykernel)",
   "language": "python",
   "name": "python3"
  },
  "language_info": {
   "codemirror_mode": {
    "name": "ipython",
    "version": 3
   },
   "file_extension": ".py",
   "mimetype": "text/x-python",
   "name": "python",
   "nbconvert_exporter": "python",
   "pygments_lexer": "ipython3",
   "version": "3.8.11"
  }
 },
 "nbformat": 4,
 "nbformat_minor": 5
}
