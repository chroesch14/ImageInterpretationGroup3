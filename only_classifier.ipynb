{
 "cells": [
  {
   "cell_type": "code",
   "execution_count": 2,
   "id": "fe1d66a1",
   "metadata": {},
   "outputs": [],
   "source": [
    "# import moduels\n",
    "import h5py\n",
    "import numpy as np\n",
    "import matplotlib.pylab as plt\n",
    "\n",
    "from sklearn.model_selection import train_test_split\n",
    "from sklearn import tree\n",
    "import pandas as pd\n",
    "from sklearn.metrics import confusion_matrix\n",
    "\n",
    "from PIL import Image\n",
    "import random\n",
    "import math\n",
    "\n",
    "import os\n"
   ]
  },
  {
   "cell_type": "code",
   "execution_count": 18,
   "id": "b22e11ab",
   "metadata": {},
   "outputs": [
    {
     "name": "stdout",
     "output_type": "stream",
     "text": [
      "Thes shape of the images is:\n",
      "(3, 10980, 10980, 3)\n"
     ]
    }
   ],
   "source": [
    "# access the data\n",
    "# this part have to be replaced when the images from the neuronal networks are available\n",
    "dset = h5py.File(\"dataset_test.h5\",\"r\")\n",
    "\n",
    "#Access to the input data\n",
    "RGB = dset[\"RGB\"]\n",
    "NIR = dset[\"NIR\"]\n",
    "\n",
    "#Access groundtruth data\n",
    "GT = dset[\"GT\"]\n",
    "CLD = dset[\"CLD\"]\n",
    "\n",
    "print(\"Thes shape of the images is:\")\n",
    "print(RGB.shape)\n",
    "\n",
    "\n",
    "# get size and numbers of the dataset\n",
    "# number of images\n",
    "n_images = RGB.shape[0]\n",
    "\n",
    "# imagesize x_direction\n",
    "sx_image = RGB.shape[1]\n",
    "#imageszize y_direction\n",
    "sy_image = RGB.shape[2]"
   ]
  },
  {
   "cell_type": "code",
   "execution_count": 85,
   "id": "47e50510",
   "metadata": {},
   "outputs": [],
   "source": [
    "# function to create groundtruth\n",
    "\n",
    "def groundtruth_generator(img_number, x_ind, y_ind,win_x,win_y):\n",
    "    print(int(x_ind))\n",
    "    print(y_ind)\n",
    "    #create temp image\n",
    "    cout_out = GT[img_number, x_ind:x_ind+win_x,y_ind:y_ind+win_y]\n",
    "    temp_img = np.where(cout_out==99,3,cout_out)\n",
    "\n",
    "    #insert the clouds into the temp groundtruth\n",
    "    temp_cloud = CLD[img_number, x_ind:x_ind+win_x,y_ind:y_ind+win_y]\n",
    "    \n",
    "    #cloud_positions = np.where(CLD[img_number] > 10) # check if this number makes sense\n",
    "    cloud_positions = np.where(temp_cloud > 10) # check if this number makes sense\n",
    "    temp_img[cloud_positions] = 2\n",
    "    \n",
    "    #cout_out = temp_img[x_ind:x_ind+win_x,y_ind:y_ind+win_y]\n",
    "\n",
    "    final_ground = temp_img.reshape(win_x*win_y,1)\n",
    "    return final_ground"
   ]
  },
  {
   "cell_type": "code",
   "execution_count": 88,
   "id": "4cd10217",
   "metadata": {},
   "outputs": [
    {
     "data": {
      "text/plain": [
       "numpy.float64"
      ]
     },
     "execution_count": 88,
     "metadata": {},
     "output_type": "execute_result"
    }
   ],
   "source": [
    "type(x_coord)"
   ]
  },
  {
   "cell_type": "code",
   "execution_count": 90,
   "id": "adf77e17",
   "metadata": {},
   "outputs": [
    {
     "name": "stdout",
     "output_type": "stream",
     "text": [
      "2681\n",
      "0\n"
     ]
    },
    {
     "data": {
      "text/plain": [
       "array([[0],\n",
       "       [0],\n",
       "       [0],\n",
       "       ...,\n",
       "       [0],\n",
       "       [0],\n",
       "       [0]], dtype=uint8)"
      ]
     },
     "execution_count": 90,
     "metadata": {},
     "output_type": "execute_result"
    }
   ],
   "source": [
    "groundtruth_generator(1,x_coord.astype(np.int64),y_coord.astype(np.int64),s_patch,s_patch)"
   ]
  },
  {
   "cell_type": "code",
   "execution_count": 67,
   "id": "ebe5e396",
   "metadata": {},
   "outputs": [],
   "source": [
    "#Access the data from the neuronal network part\n",
    "# path where the files of the networkpart are \n",
    "path = 'C:/Users/Pascal/Documents/ETH/Master/HS2021/Image Interpretation/Lab1/brauchbarer_code/output_network'\n",
    "files = os.listdir(path)\n",
    "#count how many files there are\n",
    "num_files = len(files)\n",
    "\n",
    "#seperate the data into training data and validation data\n",
    "X_train_n, X_val_n, y_train_n, y_val_n = train_test_split(np.arange(num_files),np.arange(num_files),test_size=0.3,random_state=0)"
   ]
  },
  {
   "cell_type": "code",
   "execution_count": 19,
   "id": "669ff20c",
   "metadata": {},
   "outputs": [],
   "source": [
    "# TODO apply it in a way that is possible to get the infromation from the name \n",
    "\n",
    "# of the ndarray\n",
    "# set number of images in x and y direction\n",
    "# number of images in x direction\n",
    "nx = 5\n",
    "#number of images in y direction \n",
    "ny = 5\n",
    "# size of patch\n",
    "# alle sind quadratisch\n",
    "s_patch = 256\n",
    "# numbers of categories in the pretrained network Pascal Voc --> 21\n",
    "n_cat = 21\n",
    "# compute the coordinates of all top left pixels of each patch\n",
    "# is for each image the same\n",
    "\n",
    "x_max = sx_image-s_patch\n",
    "y_max = sy_image-s_patch \n",
    "\n",
    "stepsize_x = math.floor(x_max/nx)\n",
    "stepsize_y = math.floor(y_max/ny)\n",
    "\n",
    "#create arrays with the corrdinates\n",
    "x_coordinates = np.arange(0,x_max,stepsize_x)\n",
    "y_coordinates = np.arange(0,y_max,stepsize_y)\n",
    "\n",
    "# create grid\n",
    "xx , yy = np.meshgrid(x_coordinates,y_coordinates)"
   ]
  },
  {
   "cell_type": "code",
   "execution_count": 93,
   "id": "602e8a1d",
   "metadata": {},
   "outputs": [
    {
     "name": "stdout",
     "output_type": "stream",
     "text": [
      "2681\n",
      "0\n",
      "0\n",
      "5362\n",
      "8043\n",
      "5362\n",
      "5362\n",
      "5362\n",
      "2681\n",
      "8043\n",
      "8043\n",
      "8043\n",
      "5362\n",
      "8043\n",
      "0\n",
      "8043\n",
      "0\n",
      "0\n",
      "2681\n",
      "2681\n",
      "8043\n",
      "0\n"
     ]
    }
   ],
   "source": [
    "# create the X_train etc. arrays\n",
    "#test = np.load('./output_network/'+str(files[X_train[0]]))\n",
    "#test.shape\n",
    "\n",
    "X_train = np.zeros([len(X_train_n)*np.square(s_patch),n_cat])\n",
    "y_train = np.zeros([len(y_train_n)*np.square(s_patch),1])\n",
    "\n",
    "X_val = np.zeros([len(X_val_n)*np.square(s_patch),n_cat])\n",
    "y_val = np.zeros([len(y_val_n)*np.square(s_patch),1])\n",
    "\n",
    "step_size = np.square(s_patch)\n",
    "\n",
    "# TODO check if everything is correctly implemented\n",
    "for i in range(1,len(X_train_n)+1):\n",
    "    temp = np.load('./output_network/'+str(files[X_train_n[i-1]]))\n",
    "    X_train[i*step_size-step_size:i*step_size,:] = temp[:-1,:]\n",
    "    \n",
    "    x_coord = temp[-1,0].astype(np.int64)\n",
    "    y_coord = temp[-1,1].astype(np.int64)\n",
    "    \n",
    "    y_train[i*step_size-step_size:i*step_size] = groundtruth_generator(1,x_coord,y_coord,s_patch,s_patch)"
   ]
  },
  {
   "cell_type": "code",
   "execution_count": 94,
   "id": "c2b9ac06",
   "metadata": {},
   "outputs": [
    {
     "data": {
      "text/plain": [
       "(720896, 1)"
      ]
     },
     "execution_count": 94,
     "metadata": {},
     "output_type": "execute_result"
    }
   ],
   "source": [
    "y_train.shape"
   ]
  },
  {
   "cell_type": "markdown",
   "id": "06cad142",
   "metadata": {},
   "source": [
    "# Classifier part"
   ]
  },
  {
   "cell_type": "code",
   "execution_count": 95,
   "id": "06bd47a5",
   "metadata": {},
   "outputs": [
    {
     "data": {
      "text/plain": [
       "DecisionTreeClassifier(max_depth=5)"
      ]
     },
     "execution_count": 95,
     "metadata": {},
     "output_type": "execute_result"
    }
   ],
   "source": [
    "# train classifier\n",
    "dt_clf = tree.DecisionTreeClassifier(max_depth=5)\n",
    "dt_clf.fit(X_train, y_train)\n",
    "#dt_clf.score(X_val, y_val)"
   ]
  },
  {
   "cell_type": "code",
   "execution_count": null,
   "id": "62d70587",
   "metadata": {},
   "outputs": [],
   "source": [
    "# confusion matrix --> test set have to be created\n",
    "\n",
    "# test classifier and create confusion matrix\n",
    "#y_pred = dt_clf.predict(X_test)\n",
    "#conf_matrix = confusion_matrix(y_test, y_pred)\n",
    "#print(conf_matrix)"
   ]
  }
 ],
 "metadata": {
  "kernelspec": {
   "display_name": "Python 3 (ipykernel)",
   "language": "python",
   "name": "python3"
  },
  "language_info": {
   "codemirror_mode": {
    "name": "ipython",
    "version": 3
   },
   "file_extension": ".py",
   "mimetype": "text/x-python",
   "name": "python",
   "nbconvert_exporter": "python",
   "pygments_lexer": "ipython3",
   "version": "3.8.11"
  }
 },
 "nbformat": 4,
 "nbformat_minor": 5
}
