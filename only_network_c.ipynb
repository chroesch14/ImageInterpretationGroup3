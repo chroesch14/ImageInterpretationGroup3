{
 "cells": [
  {
   "cell_type": "markdown",
   "metadata": {},
   "source": [
    "# Import"
   ]
  },
  {
   "cell_type": "code",
   "execution_count": 1,
   "metadata": {},
   "outputs": [],
   "source": [
    "# import moduels\n",
    "import h5py\n",
    "import numpy as np\n",
    "import matplotlib.pylab as plt\n",
    "import math\n",
    "from PIL import Image\n",
    "import matplotlib.pyplot as plt\n",
    "import torchvision.transforms.functional as F"
   ]
  },
  {
   "cell_type": "markdown",
   "metadata": {},
   "source": [
    "# settings"
   ]
  },
  {
   "cell_type": "code",
   "execution_count": 2,
   "metadata": {},
   "outputs": [
    {
     "name": "stdout",
     "output_type": "stream",
     "text": [
      "Thes shape of the images is:\n",
      "(3, 10980, 10980, 3)\n"
     ]
    }
   ],
   "source": [
    "# access the data\n",
    "# this part have to be replaced when the images from the neuronal networks are available\n",
    "dset = h5py.File(\"dataset_test.h5\",\"r\")\n",
    "\n",
    "#Access to the input data\n",
    "RGB = dset[\"RGB\"]\n",
    "NIR = dset[\"NIR\"]\n",
    "print(\"Thes shape of the images is:\")\n",
    "print(RGB.shape)\n",
    "\n",
    "\n",
    "# get size and numbers of the dataset\n",
    "# number of images\n",
    "n_images = RGB.shape[0]\n",
    "\n",
    "# imagesize x_direction\n",
    "sx_image = RGB.shape[1]\n",
    "#imageszize y_direction\n",
    "sy_image = RGB.shape[2]"
   ]
  },
  {
   "cell_type": "code",
   "execution_count": 3,
   "metadata": {},
   "outputs": [],
   "source": [
    "# set number of images in x and y direction\n",
    "\n",
    "# number of images in x direction\n",
    "nx = 4\n",
    "#number of images in y direction \n",
    "ny = 4\n",
    "\n",
    "# size of patch\n",
    "# alle sind quadratisch\n",
    "s_patch = 256\n",
    "\n",
    "# numbers of categories in the pretrained network Pascal Voc --> 21\n",
    "n_cat = 21"
   ]
  },
  {
   "cell_type": "code",
   "execution_count": 4,
   "metadata": {},
   "outputs": [],
   "source": [
    "# compute the coordinates of all top left pixels of each patch\n",
    "# is for each image the same\n",
    "\n",
    "x_max = sx_image-s_patch\n",
    "y_max = sy_image-s_patch \n",
    "\n",
    "stepsize_x = math.floor(x_max/nx)\n",
    "stepsize_y = math.floor(y_max/ny)\n",
    "\n",
    "#create arrays with the corrdinates\n",
    "x_coordinates = np.arange(0,x_max,stepsize_x)\n",
    "y_coordinates = np.arange(0,y_max,stepsize_y)\n",
    "\n",
    "# create grid\n",
    "xx , yy = np.meshgrid(x_coordinates,y_coordinates)"
   ]
  },
  {
   "cell_type": "markdown",
   "metadata": {},
   "source": [
    "# Network part"
   ]
  },
  {
   "cell_type": "code",
   "execution_count": 5,
   "metadata": {},
   "outputs": [],
   "source": [
    "# import networks modules\n",
    "from torchvision import models\n",
    "import torchvision.transforms as T\n",
    "import torch\n",
    "# dir(models)"
   ]
  },
  {
   "cell_type": "code",
   "execution_count": 6,
   "metadata": {},
   "outputs": [
    {
     "name": "stderr",
     "output_type": "stream",
     "text": [
      "Using cache found in C:\\Users\\chrig/.cache\\torch\\hub\\pytorch_vision_v0.10.0\n",
      "Using cache found in C:\\Users\\chrig/.cache\\torch\\hub\\pytorch_vision_v0.10.0\n"
     ]
    }
   ],
   "source": [
    "# select model\n",
    "\n",
    "# more models are avialable at: https://pytorch.org/vision/stable/models.html\n",
    "# https://learnopencv.com/pytorch-for-beginners-image-classification-using-pre-trained-models/\n",
    "\n",
    "#FCN ResNet50\n",
    "model_rn50 = torch.hub.load('pytorch/vision:v0.10.0', 'resnet50', pretrained=True)\n",
    "#model_rn50 = model_rn50.eval()\n",
    "\n",
    "#FCN ResNet101\n",
    "model_rn101 = torch.hub.load('pytorch/vision:v0.10.0', 'resnet101', pretrained=True)\n",
    "#model_rn101 = model_rn101.eval()\n",
    "\n",
    "#other models that could be used\n",
    "\n",
    "#DeeplabV3 ResNet50\n",
    "#model_dl50 = torch.hub.load('pytorch/vision:v0.10.0', 'deeplabv3_resnet50', pretrained=True)\n",
    "#model_dl50 = model_dl50.eval()\n",
    "\n",
    "#DeeplabV3 ResNet101\n",
    "#model_dl101 = torch.hub.load('pytorch/vision:v0.10.0', 'deeplabv3_resnet101', pretrained=True)\n",
    "#model_dl101 = model_dl101.eval()\n"
   ]
  },
  {
   "cell_type": "code",
   "execution_count": 7,
   "metadata": {},
   "outputs": [],
   "source": [
    "# Specify image transformation\n",
    "# function to prepare the input image into the correct form (for all segementation models of torchvision the same normalistation and standard deviation can be used!)\n",
    "# more information: https://learnopencv.com/pytorch-for-beginners-image-classification-using-pre-trained-models/\n",
    "# or https://pytorch.org/vision/stable/models.html\n",
    "transform = T.Compose([T.Resize(s_patch),\n",
    "                 T.CenterCrop(s_patch),\n",
    "                 T.ToTensor(), \n",
    "                 T.Normalize(mean = [0.485, 0.456, 0.406], \n",
    "                             std = [0.229, 0.224, 0.225])])"
   ]
  },
  {
   "cell_type": "code",
   "execution_count": 8,
   "metadata": {},
   "outputs": [],
   "source": [
    "# creat function for model application\n",
    "def get_segment_labels(image, model):\n",
    "    # transform the image to tensor and load into computation device\n",
    "    image = transform(image)\n",
    "    image = image.unsqueeze(0) # add a batch dimension\n",
    "    outputs = model(image)\n",
    "    # uncomment the following lines for more info\n",
    "    # print(type(outputs))\n",
    "    # print(outputs['out'].shape)\n",
    "    # print(outputs)\n",
    "    return outputs"
   ]
  },
  {
   "cell_type": "code",
   "execution_count": 10,
   "metadata": {},
   "outputs": [
    {
     "ename": "ValueError",
     "evalue": "cannot reshape array of size 1000 into shape (65536,21)",
     "output_type": "error",
     "traceback": [
      "\u001b[1;31m---------------------------------------------------------------------------\u001b[0m",
      "\u001b[1;31mValueError\u001b[0m                                Traceback (most recent call last)",
      "\u001b[1;32m<ipython-input-10-be805d9d859c>\u001b[0m in \u001b[0;36m<module>\u001b[1;34m\u001b[0m\n\u001b[0;32m     10\u001b[0m             \u001b[0mtemp\u001b[0m \u001b[1;33m=\u001b[0m \u001b[0mout\u001b[0m\u001b[1;33m.\u001b[0m\u001b[0mdetach\u001b[0m\u001b[1;33m(\u001b[0m\u001b[1;33m)\u001b[0m\u001b[1;33m.\u001b[0m\u001b[0mnumpy\u001b[0m\u001b[1;33m(\u001b[0m\u001b[1;33m)\u001b[0m\u001b[1;33m\u001b[0m\u001b[1;33m\u001b[0m\u001b[0m\n\u001b[0;32m     11\u001b[0m             \u001b[0mtemp1\u001b[0m \u001b[1;33m=\u001b[0m \u001b[0mtemp\u001b[0m\u001b[1;33m[\u001b[0m\u001b[1;36m0\u001b[0m\u001b[1;33m]\u001b[0m\u001b[1;33m\u001b[0m\u001b[1;33m\u001b[0m\u001b[0m\n\u001b[1;32m---> 12\u001b[1;33m             \u001b[0mtemp2\u001b[0m \u001b[1;33m=\u001b[0m \u001b[0mtemp1\u001b[0m\u001b[1;33m.\u001b[0m\u001b[0mreshape\u001b[0m\u001b[1;33m(\u001b[0m\u001b[0mnp\u001b[0m\u001b[1;33m.\u001b[0m\u001b[0msquare\u001b[0m\u001b[1;33m(\u001b[0m\u001b[0ms_patch\u001b[0m\u001b[1;33m)\u001b[0m\u001b[1;33m,\u001b[0m\u001b[0mn_cat\u001b[0m\u001b[1;33m)\u001b[0m\u001b[1;33m\u001b[0m\u001b[1;33m\u001b[0m\u001b[0m\n\u001b[0m\u001b[0;32m     13\u001b[0m             \u001b[0mzero_vector\u001b[0m\u001b[1;33m[\u001b[0m\u001b[1;36m0\u001b[0m\u001b[1;33m]\u001b[0m\u001b[1;33m[\u001b[0m\u001b[1;36m0\u001b[0m\u001b[1;33m]\u001b[0m \u001b[1;33m=\u001b[0m \u001b[0mxx\u001b[0m\u001b[1;33m[\u001b[0m\u001b[0mi\u001b[0m\u001b[1;33m]\u001b[0m\u001b[1;33m[\u001b[0m\u001b[0mj\u001b[0m\u001b[1;33m]\u001b[0m\u001b[1;33m\u001b[0m\u001b[1;33m\u001b[0m\u001b[0m\n\u001b[0;32m     14\u001b[0m             \u001b[0mzero_vector\u001b[0m\u001b[1;33m[\u001b[0m\u001b[1;36m0\u001b[0m\u001b[1;33m]\u001b[0m\u001b[1;33m[\u001b[0m\u001b[1;36m1\u001b[0m\u001b[1;33m]\u001b[0m \u001b[1;33m=\u001b[0m \u001b[0myy\u001b[0m\u001b[1;33m[\u001b[0m\u001b[0mi\u001b[0m\u001b[1;33m]\u001b[0m\u001b[1;33m[\u001b[0m\u001b[0mj\u001b[0m\u001b[1;33m]\u001b[0m\u001b[1;33m\u001b[0m\u001b[1;33m\u001b[0m\u001b[0m\n",
      "\u001b[1;31mValueError\u001b[0m: cannot reshape array of size 1000 into shape (65536,21)"
     ]
    }
   ],
   "source": [
    "# run over each image patch and save data\n",
    "zero_vector = np.zeros([1,21])\n",
    "for img_n in range(3):\n",
    "    for i in range(len(yy)):\n",
    "        for j in range(len(xx)):\n",
    "            temp_img = Image.fromarray(RGB[img_n,xx[i][j]:xx[i][j]+s_patch, yy[i][j]:yy[i][j]+s_patch,:3])\n",
    "            out = get_segment_labels(temp_img,model_rn50) # try different models\n",
    "            # print(out)\n",
    "            \n",
    "            temp = out.detach().numpy()\n",
    "            temp1 = temp[0]\n",
    "            temp2 = temp1.reshape(np.square(s_patch),n_cat)\n",
    "            zero_vector[0][0] = xx[i][j]\n",
    "            zero_vector[0][1] = yy[i][j]\n",
    "            zero_vector[0][2] = img_n\n",
    "            temp3 = np.append(temp2,zero_vector,axis =0)\n",
    "\n",
    "            # save array\n",
    "            np.save('./output_network_model_2/'+str(img_n)+'_'+str(xx[i][j])+'_'+str(yy[i][j])+'.npy',temp3)\n",
    "            "
   ]
  },
  {
   "cell_type": "code",
   "execution_count": null,
   "metadata": {},
   "outputs": [],
   "source": []
  }
 ],
 "metadata": {
  "kernelspec": {
   "display_name": "Python 3",
   "language": "python",
   "name": "python3"
  },
  "language_info": {
   "codemirror_mode": {
    "name": "ipython",
    "version": 3
   },
   "file_extension": ".py",
   "mimetype": "text/x-python",
   "name": "python",
   "nbconvert_exporter": "python",
   "pygments_lexer": "ipython3",
   "version": "3.8.5"
  }
 },
 "nbformat": 4,
 "nbformat_minor": 5
}
